{
 "cells": [
  {
   "cell_type": "markdown",
   "id": "7bb3e3f3",
   "metadata": {},
   "source": [
    "## Teste pyspark ##\n",
    "\n",
    "No diretório raiz desse documento, existem os três arquivos que serão necessários para a conclusão dessa atividade. Em caso de dúvidas, a pasta de se encontra no desktop dessa máquina na pasta 'pyspark_test'.\n",
    "Os dados são fictícios e compreendem uma simulação de um cenário de uma loja de departamentos, para isso temos os arquivos com as seguintes informações:\n",
    "- users.csv -> Dados dos clientes/usuários da loja\n",
    "- sales.csv -> Dados das vendas\n",
    "- products.json -> Dados de cadastro dos produtos\n",
    "\n",
    "Antes de iniciar, não esqueça de renomear esse documento substituindo o texto SEU_NOME no título com o nome de quem for resolver.\n",
    "\n",
    "Deixe as respostas bem sinalizadas e comentadas e mencionando a qual questão se refere.\n",
    "\n",
    "Fique à vontade para utilizar quantas células forem necessárias.\n",
    "\n",
    "\n",
    "A atividade consiste nas questões a seguir:\n",
    "\n",
    "1. Declare um novo dataframe que mostre o nome do produto e o valor final da compra.\n",
    "2. Declare um novo dataframe com o valor total gasto por cliente.\n",
    "3. Declare um novo dataframe com os cinco melhores clientes contendo o nome, e-mail e o valor gasto em todo o período.\n",
    "4. Declare um novo dataframe com os cinco produtos mais vendidos nos últimos seis meses (considerando período de dados disponível nos arquivos) contendo o nome do produto e a quantidade de produtos vendidos nesse período.\n",
    "5. Calcular a média de faturamento por cliente e o desvio padrão.\n",
    "6. Classificar os clientes em três categorias: silver, gold, platinum\n",
    "\tplatinum: clientes que gastaram mais que a média de faturamento por cliente;\n",
    "\tgold: clientes que gastaram do menor desvio padrão até a média de faturamento por cliente;\n",
    "\tsilver: clientes que gastaram no máximo a média menos o desvio padrão do faturamento por cliente;\n",
    "7. Salvar um arquivo parquet com os três produtos mais consumidos de cada categoria do cliente."
   ]
  },
  {
   "cell_type": "code",
   "execution_count": null,
   "id": "205a2a24",
   "metadata": {},
   "outputs": [],
   "source": [
    "from pyspark.sql import SparkSession\n",
    "from pyspark.sql import *"
   ]
  },
  {
   "cell_type": "code",
   "execution_count": null,
   "id": "b7e5a13f",
   "metadata": {},
   "outputs": [],
   "source": [
    "spark = SparkSession.builder.appName('test-spark').getOrCreate()"
   ]
  }
 ],
 "metadata": {
  "kernelspec": {
   "display_name": "Python 3 (ipykernel)",
   "language": "python",
   "name": "python3"
  },
  "language_info": {
   "codemirror_mode": {
    "name": "ipython",
    "version": 3
   },
   "file_extension": ".py",
   "mimetype": "text/x-python",
   "name": "python",
   "nbconvert_exporter": "python",
   "pygments_lexer": "ipython3",
   "version": "3.11.5"
  }
 },
 "nbformat": 4,
 "nbformat_minor": 5
}
